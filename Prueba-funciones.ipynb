{
 "cells": [
  {
   "cell_type": "code",
   "execution_count": 2,
   "metadata": {},
   "outputs": [],
   "source": [
    "import pandas as pd\n",
    "import numpy as np"
   ]
  },
  {
   "cell_type": "code",
   "execution_count": 3,
   "metadata": {},
   "outputs": [],
   "source": [
    "#df=pd.read_csv('data_movies_credits')\n",
    "df=pd.read_csv('df_2')\n",
    "df_recomendaciones=pd.read_csv('data_recomendaciones_final')\n",
    "y=pd.read_csv('df_peliculas_idioma')"
   ]
  },
  {
   "cell_type": "code",
   "execution_count": 35,
   "metadata": {},
   "outputs": [
    {
     "data": {
      "text/html": [
       "<div>\n",
       "<style scoped>\n",
       "    .dataframe tbody tr th:only-of-type {\n",
       "        vertical-align: middle;\n",
       "    }\n",
       "\n",
       "    .dataframe tbody tr th {\n",
       "        vertical-align: top;\n",
       "    }\n",
       "\n",
       "    .dataframe thead th {\n",
       "        text-align: right;\n",
       "    }\n",
       "</style>\n",
       "<table border=\"1\" class=\"dataframe\">\n",
       "  <thead>\n",
       "    <tr style=\"text-align: right;\">\n",
       "      <th></th>\n",
       "      <th>belongs_to_collection</th>\n",
       "      <th>budget</th>\n",
       "      <th>genres</th>\n",
       "      <th>original_language</th>\n",
       "      <th>production_companies</th>\n",
       "      <th>production_countries</th>\n",
       "      <th>release_date</th>\n",
       "      <th>revenue</th>\n",
       "      <th>spoken_languages</th>\n",
       "      <th>title</th>\n",
       "      <th>return</th>\n",
       "      <th>release_year</th>\n",
       "      <th>cast</th>\n",
       "      <th>crew</th>\n",
       "      <th>runtime</th>\n",
       "      <th>production_companies2</th>\n",
       "      <th>crew2</th>\n",
       "    </tr>\n",
       "  </thead>\n",
       "  <tbody>\n",
       "    <tr>\n",
       "      <th>0</th>\n",
       "      <td>Toy Story Collection</td>\n",
       "      <td>30000000.0</td>\n",
       "      <td>['Animation', 'Comedy', 'Family']</td>\n",
       "      <td>en</td>\n",
       "      <td>['Pixar Animation Studios']</td>\n",
       "      <td>['United States of America']</td>\n",
       "      <td>1995-10-30</td>\n",
       "      <td>373554033.0</td>\n",
       "      <td>['English']</td>\n",
       "      <td>Toy Story</td>\n",
       "      <td>12.451801</td>\n",
       "      <td>1995</td>\n",
       "      <td>['Tom Hanks', 'Tim Allen', 'Don Rickles', 'Jim...</td>\n",
       "      <td>['John Lasseter']</td>\n",
       "      <td>81.0</td>\n",
       "      <td>[Pixar Animation Studios]</td>\n",
       "      <td>[John Lasseter]</td>\n",
       "    </tr>\n",
       "    <tr>\n",
       "      <th>1</th>\n",
       "      <td>NaN</td>\n",
       "      <td>65000000.0</td>\n",
       "      <td>['Adventure', 'Fantasy', 'Family']</td>\n",
       "      <td>en</td>\n",
       "      <td>['TriStar Pictures', 'Teitler Film', 'Intersco...</td>\n",
       "      <td>['United States of America']</td>\n",
       "      <td>1995-12-15</td>\n",
       "      <td>262797249.0</td>\n",
       "      <td>['English', 'Français']</td>\n",
       "      <td>Jumanji</td>\n",
       "      <td>4.043035</td>\n",
       "      <td>1995</td>\n",
       "      <td>['Robin Williams', 'Jonathan Hyde', 'Kirsten D...</td>\n",
       "      <td>['Joe Johnston']</td>\n",
       "      <td>104.0</td>\n",
       "      <td>[TriStar Pictures, Teitler Film, Interscope Co...</td>\n",
       "      <td>[Joe Johnston]</td>\n",
       "    </tr>\n",
       "    <tr>\n",
       "      <th>2</th>\n",
       "      <td>Grumpy Old Men Collection</td>\n",
       "      <td>0.0</td>\n",
       "      <td>['Romance', 'Comedy']</td>\n",
       "      <td>en</td>\n",
       "      <td>['Warner Bros.', 'Lancaster Gate']</td>\n",
       "      <td>['United States of America']</td>\n",
       "      <td>1995-12-22</td>\n",
       "      <td>0.0</td>\n",
       "      <td>['English']</td>\n",
       "      <td>Grumpier Old Men</td>\n",
       "      <td>0.000000</td>\n",
       "      <td>1995</td>\n",
       "      <td>['Walter Matthau', 'Jack Lemmon', 'Ann-Margret...</td>\n",
       "      <td>['Howard Deutch']</td>\n",
       "      <td>101.0</td>\n",
       "      <td>[Warner Bros., Lancaster Gate]</td>\n",
       "      <td>[Howard Deutch]</td>\n",
       "    </tr>\n",
       "    <tr>\n",
       "      <th>3</th>\n",
       "      <td>NaN</td>\n",
       "      <td>16000000.0</td>\n",
       "      <td>['Comedy', 'Drama', 'Romance']</td>\n",
       "      <td>en</td>\n",
       "      <td>['Twentieth Century Fox Film Corporation']</td>\n",
       "      <td>['United States of America']</td>\n",
       "      <td>1995-12-22</td>\n",
       "      <td>81452156.0</td>\n",
       "      <td>['English']</td>\n",
       "      <td>Waiting to Exhale</td>\n",
       "      <td>5.090760</td>\n",
       "      <td>1995</td>\n",
       "      <td>['Whitney Houston', 'Angela Bassett', 'Loretta...</td>\n",
       "      <td>['Forest Whitaker']</td>\n",
       "      <td>127.0</td>\n",
       "      <td>[Twentieth Century Fox Film Corporation]</td>\n",
       "      <td>[Forest Whitaker]</td>\n",
       "    </tr>\n",
       "    <tr>\n",
       "      <th>4</th>\n",
       "      <td>Father of the Bride Collection</td>\n",
       "      <td>0.0</td>\n",
       "      <td>['Comedy']</td>\n",
       "      <td>en</td>\n",
       "      <td>['Sandollar Productions', 'Touchstone Pictures']</td>\n",
       "      <td>['United States of America']</td>\n",
       "      <td>1995-02-10</td>\n",
       "      <td>76578911.0</td>\n",
       "      <td>['English']</td>\n",
       "      <td>Father of the Bride Part II</td>\n",
       "      <td>0.000000</td>\n",
       "      <td>1995</td>\n",
       "      <td>['Steve Martin', 'Diane Keaton', 'Martin Short...</td>\n",
       "      <td>['Charles Shyer']</td>\n",
       "      <td>106.0</td>\n",
       "      <td>[Sandollar Productions, Touchstone Pictures]</td>\n",
       "      <td>[Charles Shyer]</td>\n",
       "    </tr>\n",
       "    <tr>\n",
       "      <th>...</th>\n",
       "      <td>...</td>\n",
       "      <td>...</td>\n",
       "      <td>...</td>\n",
       "      <td>...</td>\n",
       "      <td>...</td>\n",
       "      <td>...</td>\n",
       "      <td>...</td>\n",
       "      <td>...</td>\n",
       "      <td>...</td>\n",
       "      <td>...</td>\n",
       "      <td>...</td>\n",
       "      <td>...</td>\n",
       "      <td>...</td>\n",
       "      <td>...</td>\n",
       "      <td>...</td>\n",
       "      <td>...</td>\n",
       "      <td>...</td>\n",
       "    </tr>\n",
       "    <tr>\n",
       "      <th>45370</th>\n",
       "      <td>NaN</td>\n",
       "      <td>0.0</td>\n",
       "      <td>['Drama', 'Action', 'Romance']</td>\n",
       "      <td>en</td>\n",
       "      <td>['Westdeutscher Rundfunk (WDR)', 'Working Titl...</td>\n",
       "      <td>['Canada', 'Germany', 'United Kingdom', 'Unite...</td>\n",
       "      <td>1991-05-13</td>\n",
       "      <td>0.0</td>\n",
       "      <td>['English']</td>\n",
       "      <td>Robin Hood</td>\n",
       "      <td>0.000000</td>\n",
       "      <td>1991</td>\n",
       "      <td>['Patrick Bergin', 'Uma Thurman', 'David Morri...</td>\n",
       "      <td>['John Irvin']</td>\n",
       "      <td>104.0</td>\n",
       "      <td>[Westdeutscher Rundfunk (WDR), Working Title F...</td>\n",
       "      <td>[John Irvin]</td>\n",
       "    </tr>\n",
       "    <tr>\n",
       "      <th>45371</th>\n",
       "      <td>NaN</td>\n",
       "      <td>0.0</td>\n",
       "      <td>['Drama']</td>\n",
       "      <td>tl</td>\n",
       "      <td>['Sine Olivia']</td>\n",
       "      <td>['Philippines']</td>\n",
       "      <td>2011-11-17</td>\n",
       "      <td>0.0</td>\n",
       "      <td>['']</td>\n",
       "      <td>Century of Birthing</td>\n",
       "      <td>0.000000</td>\n",
       "      <td>2011</td>\n",
       "      <td>['Angel Aquino', 'Perry Dizon', 'Hazel Orencio...</td>\n",
       "      <td>['Lav Diaz']</td>\n",
       "      <td>360.0</td>\n",
       "      <td>[Sine Olivia]</td>\n",
       "      <td>[Lav Diaz]</td>\n",
       "    </tr>\n",
       "    <tr>\n",
       "      <th>45372</th>\n",
       "      <td>NaN</td>\n",
       "      <td>0.0</td>\n",
       "      <td>['Action', 'Drama', 'Thriller']</td>\n",
       "      <td>en</td>\n",
       "      <td>['American World Pictures']</td>\n",
       "      <td>['United States of America']</td>\n",
       "      <td>2003-08-01</td>\n",
       "      <td>0.0</td>\n",
       "      <td>['English']</td>\n",
       "      <td>Betrayal</td>\n",
       "      <td>0.000000</td>\n",
       "      <td>2003</td>\n",
       "      <td>['Erika Eleniak', 'Adam Baldwin', 'Julie du Pa...</td>\n",
       "      <td>['Mark L. Lester']</td>\n",
       "      <td>90.0</td>\n",
       "      <td>[American World Pictures]</td>\n",
       "      <td>[Mark L. Lester]</td>\n",
       "    </tr>\n",
       "    <tr>\n",
       "      <th>45373</th>\n",
       "      <td>NaN</td>\n",
       "      <td>0.0</td>\n",
       "      <td>[]</td>\n",
       "      <td>en</td>\n",
       "      <td>['Yermoliev']</td>\n",
       "      <td>['Russia']</td>\n",
       "      <td>1917-10-21</td>\n",
       "      <td>0.0</td>\n",
       "      <td>[]</td>\n",
       "      <td>Satan Triumphant</td>\n",
       "      <td>0.000000</td>\n",
       "      <td>1917</td>\n",
       "      <td>['Iwan Mosschuchin', 'Nathalie Lissenko', 'Pav...</td>\n",
       "      <td>['Yakov Protazanov']</td>\n",
       "      <td>87.0</td>\n",
       "      <td>[Yermoliev]</td>\n",
       "      <td>[Yakov Protazanov]</td>\n",
       "    </tr>\n",
       "    <tr>\n",
       "      <th>45374</th>\n",
       "      <td>NaN</td>\n",
       "      <td>0.0</td>\n",
       "      <td>[]</td>\n",
       "      <td>en</td>\n",
       "      <td>[]</td>\n",
       "      <td>['United Kingdom']</td>\n",
       "      <td>2017-06-09</td>\n",
       "      <td>0.0</td>\n",
       "      <td>['English']</td>\n",
       "      <td>Queerama</td>\n",
       "      <td>0.000000</td>\n",
       "      <td>2017</td>\n",
       "      <td>[]</td>\n",
       "      <td>['Daisy Asquith']</td>\n",
       "      <td>75.0</td>\n",
       "      <td>[]</td>\n",
       "      <td>[Daisy Asquith]</td>\n",
       "    </tr>\n",
       "  </tbody>\n",
       "</table>\n",
       "<p>45375 rows × 17 columns</p>\n",
       "</div>"
      ],
      "text/plain": [
       "                belongs_to_collection      budget  \\\n",
       "0                Toy Story Collection  30000000.0   \n",
       "1                                 NaN  65000000.0   \n",
       "2           Grumpy Old Men Collection         0.0   \n",
       "3                                 NaN  16000000.0   \n",
       "4      Father of the Bride Collection         0.0   \n",
       "...                               ...         ...   \n",
       "45370                             NaN         0.0   \n",
       "45371                             NaN         0.0   \n",
       "45372                             NaN         0.0   \n",
       "45373                             NaN         0.0   \n",
       "45374                             NaN         0.0   \n",
       "\n",
       "                                   genres original_language  \\\n",
       "0       ['Animation', 'Comedy', 'Family']                en   \n",
       "1      ['Adventure', 'Fantasy', 'Family']                en   \n",
       "2                   ['Romance', 'Comedy']                en   \n",
       "3          ['Comedy', 'Drama', 'Romance']                en   \n",
       "4                              ['Comedy']                en   \n",
       "...                                   ...               ...   \n",
       "45370      ['Drama', 'Action', 'Romance']                en   \n",
       "45371                           ['Drama']                tl   \n",
       "45372     ['Action', 'Drama', 'Thriller']                en   \n",
       "45373                                  []                en   \n",
       "45374                                  []                en   \n",
       "\n",
       "                                    production_companies  \\\n",
       "0                            ['Pixar Animation Studios']   \n",
       "1      ['TriStar Pictures', 'Teitler Film', 'Intersco...   \n",
       "2                     ['Warner Bros.', 'Lancaster Gate']   \n",
       "3             ['Twentieth Century Fox Film Corporation']   \n",
       "4       ['Sandollar Productions', 'Touchstone Pictures']   \n",
       "...                                                  ...   \n",
       "45370  ['Westdeutscher Rundfunk (WDR)', 'Working Titl...   \n",
       "45371                                    ['Sine Olivia']   \n",
       "45372                        ['American World Pictures']   \n",
       "45373                                      ['Yermoliev']   \n",
       "45374                                                 []   \n",
       "\n",
       "                                    production_countries release_date  \\\n",
       "0                           ['United States of America']   1995-10-30   \n",
       "1                           ['United States of America']   1995-12-15   \n",
       "2                           ['United States of America']   1995-12-22   \n",
       "3                           ['United States of America']   1995-12-22   \n",
       "4                           ['United States of America']   1995-02-10   \n",
       "...                                                  ...          ...   \n",
       "45370  ['Canada', 'Germany', 'United Kingdom', 'Unite...   1991-05-13   \n",
       "45371                                    ['Philippines']   2011-11-17   \n",
       "45372                       ['United States of America']   2003-08-01   \n",
       "45373                                         ['Russia']   1917-10-21   \n",
       "45374                                 ['United Kingdom']   2017-06-09   \n",
       "\n",
       "           revenue         spoken_languages                        title  \\\n",
       "0      373554033.0              ['English']                    Toy Story   \n",
       "1      262797249.0  ['English', 'Français']                      Jumanji   \n",
       "2              0.0              ['English']             Grumpier Old Men   \n",
       "3       81452156.0              ['English']            Waiting to Exhale   \n",
       "4       76578911.0              ['English']  Father of the Bride Part II   \n",
       "...            ...                      ...                          ...   \n",
       "45370          0.0              ['English']                   Robin Hood   \n",
       "45371          0.0                     ['']          Century of Birthing   \n",
       "45372          0.0              ['English']                     Betrayal   \n",
       "45373          0.0                       []             Satan Triumphant   \n",
       "45374          0.0              ['English']                     Queerama   \n",
       "\n",
       "          return  release_year  \\\n",
       "0      12.451801          1995   \n",
       "1       4.043035          1995   \n",
       "2       0.000000          1995   \n",
       "3       5.090760          1995   \n",
       "4       0.000000          1995   \n",
       "...          ...           ...   \n",
       "45370   0.000000          1991   \n",
       "45371   0.000000          2011   \n",
       "45372   0.000000          2003   \n",
       "45373   0.000000          1917   \n",
       "45374   0.000000          2017   \n",
       "\n",
       "                                                    cast  \\\n",
       "0      ['Tom Hanks', 'Tim Allen', 'Don Rickles', 'Jim...   \n",
       "1      ['Robin Williams', 'Jonathan Hyde', 'Kirsten D...   \n",
       "2      ['Walter Matthau', 'Jack Lemmon', 'Ann-Margret...   \n",
       "3      ['Whitney Houston', 'Angela Bassett', 'Loretta...   \n",
       "4      ['Steve Martin', 'Diane Keaton', 'Martin Short...   \n",
       "...                                                  ...   \n",
       "45370  ['Patrick Bergin', 'Uma Thurman', 'David Morri...   \n",
       "45371  ['Angel Aquino', 'Perry Dizon', 'Hazel Orencio...   \n",
       "45372  ['Erika Eleniak', 'Adam Baldwin', 'Julie du Pa...   \n",
       "45373  ['Iwan Mosschuchin', 'Nathalie Lissenko', 'Pav...   \n",
       "45374                                                 []   \n",
       "\n",
       "                       crew  runtime  \\\n",
       "0         ['John Lasseter']     81.0   \n",
       "1          ['Joe Johnston']    104.0   \n",
       "2         ['Howard Deutch']    101.0   \n",
       "3       ['Forest Whitaker']    127.0   \n",
       "4         ['Charles Shyer']    106.0   \n",
       "...                     ...      ...   \n",
       "45370        ['John Irvin']    104.0   \n",
       "45371          ['Lav Diaz']    360.0   \n",
       "45372    ['Mark L. Lester']     90.0   \n",
       "45373  ['Yakov Protazanov']     87.0   \n",
       "45374     ['Daisy Asquith']     75.0   \n",
       "\n",
       "                                   production_companies2               crew2  \n",
       "0                              [Pixar Animation Studios]     [John Lasseter]  \n",
       "1      [TriStar Pictures, Teitler Film, Interscope Co...      [Joe Johnston]  \n",
       "2                         [Warner Bros., Lancaster Gate]     [Howard Deutch]  \n",
       "3               [Twentieth Century Fox Film Corporation]   [Forest Whitaker]  \n",
       "4           [Sandollar Productions, Touchstone Pictures]     [Charles Shyer]  \n",
       "...                                                  ...                 ...  \n",
       "45370  [Westdeutscher Rundfunk (WDR), Working Title F...        [John Irvin]  \n",
       "45371                                      [Sine Olivia]          [Lav Diaz]  \n",
       "45372                          [American World Pictures]    [Mark L. Lester]  \n",
       "45373                                        [Yermoliev]  [Yakov Protazanov]  \n",
       "45374                                                 []     [Daisy Asquith]  \n",
       "\n",
       "[45375 rows x 17 columns]"
      ]
     },
     "execution_count": 35,
     "metadata": {},
     "output_type": "execute_result"
    }
   ],
   "source": [
    "df"
   ]
  },
  {
   "cell_type": "markdown",
   "metadata": {},
   "source": [
    "1.- def peliculas_idioma( Idioma: str ): Se ingresa un idioma (como están escritos en el dataset, no hay que traducirlos!). \n",
    "Debe devolver la cantidad de películas producidas en ese idioma.\n",
    "\n",
    "Ejemplo de retorno: X cantidad de películas fueron estrenadas en idioma"
   ]
  },
  {
   "cell_type": "code",
   "execution_count": 13,
   "metadata": {},
   "outputs": [],
   "source": [
    "def peliculas_idioma(idioma: str):\n",
    "\n",
    "    if type(idioma)== str:\n",
    "        if idioma in y['original_language'].values:\n",
    "        # Filtrar el DataFrame y obtener la cantidad de películas en el idioma especificado\n",
    "            cantidad_peliculas = y[y['original_language'] == idioma]['count'].values[0]\n",
    "        \n",
    "            return {'idioma':idioma, 'cantidad':cantidad_peliculas}\n",
    "\n"
   ]
  },
  {
   "cell_type": "code",
   "execution_count": 16,
   "metadata": {},
   "outputs": [
    {
     "data": {
      "text/plain": [
       "{'idioma': 'en', 'cantidad': 32203}"
      ]
     },
     "execution_count": 16,
     "metadata": {},
     "output_type": "execute_result"
    }
   ],
   "source": [
    "peliculas_idioma('en')"
   ]
  },
  {
   "cell_type": "markdown",
   "metadata": {},
   "source": [
    "2.- def peliculas_duracion( Pelicula: str ): Se ingresa una pelicula. \n",
    "Debe devolver la duracion y el año.\n",
    "Ejemplo de retorno: X . Duración: x. Año: xx"
   ]
  },
  {
   "cell_type": "code",
   "execution_count": 17,
   "metadata": {},
   "outputs": [],
   "source": [
    "def peliculas_duracion( pelicula: str ):\n",
    "    if type(pelicula)== str:\n",
    "        if pelicula in df['title'].values:\n",
    "        # Filtrar el DataFrame y obtener la cantidad de películas en el idioma especificado\n",
    "            duracion = df[df['title'] == pelicula]['runtime'].values[0]\n",
    "            anio=df[df['title'] == pelicula]['release_year'].values[0]\n",
    "            return {'pelicula':pelicula, 'duracion':duracion, 'anio':anio}"
   ]
  },
  {
   "cell_type": "code",
   "execution_count": 19,
   "metadata": {},
   "outputs": [
    {
     "data": {
      "text/plain": [
       "{'pelicula': 'Toy Story', 'duracion': 81.0, 'anio': 1995}"
      ]
     },
     "execution_count": 19,
     "metadata": {},
     "output_type": "execute_result"
    }
   ],
   "source": [
    "peliculas_duracion('Toy Story')"
   ]
  },
  {
   "cell_type": "markdown",
   "metadata": {},
   "source": [
    "3.- def franquicia( Franquicia: str ): Se ingresa la franquicia, retornando la cantidad de peliculas, ganancia total y promedio\n",
    "Ejemplo de retorno: La franquicia X posee X peliculas, una ganancia total de x y una ganancia promedio de xx"
   ]
  },
  {
   "cell_type": "code",
   "execution_count": 24,
   "metadata": {},
   "outputs": [],
   "source": [
    "def franquicia( franquicia: str ):\n",
    "    if type(franquicia)== str:\n",
    "        if franquicia in df['belongs_to_collection'].values:\n",
    "            y1=df[df['belongs_to_collection']==franquicia]['belongs_to_collection'].values\n",
    "            cantidad_peliculas=len(y1)\n",
    "            ganancia_total = sum(df[df['belongs_to_collection']==franquicia]['return'].values)\n",
    "            promedio = np.mean(df[df['belongs_to_collection']==franquicia]['return'].values)\n",
    "            return {'franquicia':franquicia, 'cantidad':cantidad_peliculas, \n",
    "            'ganancia_total':ganancia_total, 'ganancia_promedio':promedio}\n"
   ]
  },
  {
   "cell_type": "code",
   "execution_count": 25,
   "metadata": {},
   "outputs": [
    {
     "data": {
      "text/plain": [
       "{'franquicia': 'Toy Story Collection',\n",
       " 'cantidad': 3,\n",
       " 'ganancia_total': 23.312948159444446,\n",
       " 'ganancia_promedio': 7.770982719814815}"
      ]
     },
     "execution_count": 25,
     "metadata": {},
     "output_type": "execute_result"
    }
   ],
   "source": [
    "franquicia('Toy Story Collection')"
   ]
  },
  {
   "cell_type": "markdown",
   "metadata": {},
   "source": [
    "4.- def peliculas_pais( Pais: str ): Se ingresa un país (como están escritos en el dataset, no hay que traducirlos!), retornando la cantidad de peliculas producidas en el mismo.\n",
    "                    Ejemplo de retorno: Se produjeron X películas en el país X"
   ]
  },
  {
   "cell_type": "code",
   "execution_count": 22,
   "metadata": {},
   "outputs": [],
   "source": [
    "def peliculas_pais(pais: str):\n",
    "    # Filtrar el DataFrame para obtener las películas producidas en el país especificado\n",
    "    cantidad_peliculas = df[df['production_countries'].apply(lambda paises: pais in paises)].shape[0]\n",
    "    \n",
    "    return {'pais':pais, 'cantidad':cantidad_peliculas}\n"
   ]
  },
  {
   "cell_type": "code",
   "execution_count": 26,
   "metadata": {},
   "outputs": [
    {
     "data": {
      "text/plain": [
       "{'pais': 'United States of America', 'cantidad': 21151}"
      ]
     },
     "execution_count": 26,
     "metadata": {},
     "output_type": "execute_result"
    }
   ],
   "source": [
    "peliculas_pais('United States of America')"
   ]
  },
  {
   "cell_type": "markdown",
   "metadata": {},
   "source": [
    "5.- def productoras_exitosas( Productora: str ): Se ingresa la productora, entregandote el revunue total y la cantidad de peliculas que realizo.\n",
    "Ejemplo de retorno: La productora X ha tenido un revenue de x"
   ]
  },
  {
   "cell_type": "code",
   "execution_count": 29,
   "metadata": {},
   "outputs": [],
   "source": [
    "def productoras_exitosas( productora: str ):\n",
    "    import ast\n",
    "    #Convertimos la columna tipo str a lista\n",
    "    convert_to_dicc = lambda string_a_dicc: ast.literal_eval(string_a_dicc) if isinstance(string_a_dicc, str) else np.nan\n",
    "    df['production_companies2'] = df['production_companies'].apply(convert_to_dicc)\n",
    "\n",
    "    # Variables para almacenar el conteo de películas y el total de revenue\n",
    "    cantidad_peliculas = 0\n",
    "    revenue_total = 0\n",
    "    if type(productora) == str:\n",
    "        for i in df['production_companies2'].values:\n",
    "            if productora in i:\n",
    "                matching_rows = df[df['production_companies2'].apply(lambda x: isinstance(x, list) and productora in x)]\n",
    "                matching_rows2 = pd.DataFrame(matching_rows)\n",
    "                cantidad_peliculas = len(matching_rows2)\n",
    "                revenue_total = matching_rows2['revenue'].sum()\n",
    "                break  # Salir del bucle una vez que se encuentra la coincidencia\n",
    "\n",
    "        return {'productora':productora, 'revenue_total': revenue_total,'cantidad':cantidad_peliculas}"
   ]
  },
  {
   "cell_type": "code",
   "execution_count": 30,
   "metadata": {},
   "outputs": [
    {
     "data": {
      "text/plain": [
       "{'productora': 'Twentieth Century Fox Filmm Corporation',\n",
       " 'revenue_total': 0,\n",
       " 'cantidad': 0}"
      ]
     },
     "execution_count": 30,
     "metadata": {},
     "output_type": "execute_result"
    }
   ],
   "source": [
    "productoras_exitosas('Twentieth Century Fox Filmm Corporation')"
   ]
  },
  {
   "cell_type": "markdown",
   "metadata": {},
   "source": [
    "6.- def get_director( nombre_director ): Se ingresa el nombre de un director que se encuentre dentro de un dataset debiendo devolver el éxito del mismo medido a través del retorno. Además, deberá devolver el nombre de cada película con la fecha de lanzamiento, retorno individual, costo y ganancia de la misma, en formato lista."
   ]
  },
  {
   "cell_type": "code",
   "execution_count": 20,
   "metadata": {},
   "outputs": [
    {
     "data": {
      "text/html": [
       "<div>\n",
       "<style scoped>\n",
       "    .dataframe tbody tr th:only-of-type {\n",
       "        vertical-align: middle;\n",
       "    }\n",
       "\n",
       "    .dataframe tbody tr th {\n",
       "        vertical-align: top;\n",
       "    }\n",
       "\n",
       "    .dataframe thead th {\n",
       "        text-align: right;\n",
       "    }\n",
       "</style>\n",
       "<table border=\"1\" class=\"dataframe\">\n",
       "  <thead>\n",
       "    <tr style=\"text-align: right;\">\n",
       "      <th></th>\n",
       "      <th>belongs_to_collection</th>\n",
       "      <th>budget</th>\n",
       "      <th>genres</th>\n",
       "      <th>original_language</th>\n",
       "      <th>production_companies</th>\n",
       "      <th>production_countries</th>\n",
       "      <th>release_date</th>\n",
       "      <th>revenue</th>\n",
       "      <th>spoken_languages</th>\n",
       "      <th>title</th>\n",
       "      <th>return</th>\n",
       "      <th>release_year</th>\n",
       "      <th>cast</th>\n",
       "      <th>crew</th>\n",
       "      <th>runtime</th>\n",
       "    </tr>\n",
       "  </thead>\n",
       "  <tbody>\n",
       "    <tr>\n",
       "      <th>0</th>\n",
       "      <td>Toy Story Collection</td>\n",
       "      <td>30000000.0</td>\n",
       "      <td>['Animation', 'Comedy', 'Family']</td>\n",
       "      <td>en</td>\n",
       "      <td>['Pixar Animation Studios']</td>\n",
       "      <td>['United States of America']</td>\n",
       "      <td>1995-10-30</td>\n",
       "      <td>373554033.0</td>\n",
       "      <td>['English']</td>\n",
       "      <td>Toy Story</td>\n",
       "      <td>12.451801</td>\n",
       "      <td>1995</td>\n",
       "      <td>['Tom Hanks', 'Tim Allen', 'Don Rickles', 'Jim...</td>\n",
       "      <td>['John Lasseter']</td>\n",
       "      <td>81.0</td>\n",
       "    </tr>\n",
       "  </tbody>\n",
       "</table>\n",
       "</div>"
      ],
      "text/plain": [
       "  belongs_to_collection      budget                             genres  \\\n",
       "0  Toy Story Collection  30000000.0  ['Animation', 'Comedy', 'Family']   \n",
       "\n",
       "  original_language         production_companies  \\\n",
       "0                en  ['Pixar Animation Studios']   \n",
       "\n",
       "           production_countries release_date      revenue spoken_languages  \\\n",
       "0  ['United States of America']   1995-10-30  373554033.0      ['English']   \n",
       "\n",
       "       title     return  release_year  \\\n",
       "0  Toy Story  12.451801          1995   \n",
       "\n",
       "                                                cast               crew  \\\n",
       "0  ['Tom Hanks', 'Tim Allen', 'Don Rickles', 'Jim...  ['John Lasseter']   \n",
       "\n",
       "   runtime  \n",
       "0     81.0  "
      ]
     },
     "execution_count": 20,
     "metadata": {},
     "output_type": "execute_result"
    }
   ],
   "source": [
    "df_2.head(1)"
   ]
  },
  {
   "cell_type": "code",
   "execution_count": 31,
   "metadata": {},
   "outputs": [],
   "source": [
    "def get_director(nombre_director):\n",
    "    import ast\n",
    "    #Convertimos la columna tipo str a lista\n",
    "    convert_to_dicc = lambda string_a_dicc: ast.literal_eval(string_a_dicc) if isinstance(string_a_dicc, str) else np.nan\n",
    "    df['crew2'] = df['crew'].apply(convert_to_dicc)\n",
    "\n",
    "    # Variables para almacenar el conteo de películas y el total de revenue\n",
    "    retorno_total_director=[]\n",
    "    peliculas=[]\n",
    "    anio=[]\n",
    "    retorno_pelicula=[]\n",
    "    budget_pelicula=[]\n",
    "    revenue_pelicula=[]\n",
    "    if type(nombre_director) == str:\n",
    "        for i in df['crew2'].values:\n",
    "            if type(i) == list and nombre_director in i:\n",
    "                matching_rows = df[df['crew2'].apply(lambda x: isinstance(x, list) and nombre_director in x)]\n",
    "                matching_rows2 = pd.DataFrame(matching_rows)\n",
    "                matching_rows2=matching_rows2[['title','release_year','return','revenue','budget','crew2']]\n",
    "                retorno_total_director.append(matching_rows2['return'].sum())\n",
    "                for i in matching_rows2['title']:\n",
    "                    peliculas.append(i)\n",
    "                for i in matching_rows2['release_year']:\n",
    "                    anio.append(i)\n",
    "                for i in matching_rows2['return']:\n",
    "                    retorno_pelicula.append(i)\n",
    "                for i in matching_rows2['budget']:\n",
    "                    budget_pelicula.append(i)\n",
    "                for i in matching_rows2['revenue']:\n",
    "                    revenue_pelicula.append(i)\n",
    "\n",
    "                break\n",
    "        # Crear un diccionario para almacenar la información\n",
    "        informacion = {'director':nombre_director, 'retorno_total_director':retorno_total_director, \n",
    "        'peliculas':peliculas, 'anio':anio, 'retorno_pelicula':retorno_pelicula, \n",
    "        'budget_pelicula':budget_pelicula, 'revenue_pelicula':revenue_pelicula}\n",
    "        \n",
    "        return informacion"
   ]
  },
  {
   "cell_type": "code",
   "execution_count": 32,
   "metadata": {},
   "outputs": [
    {
     "data": {
      "text/plain": [
       "{'director': 'John Lasseter',\n",
       " 'retorno_total_director': [27.65437835777778],\n",
       " 'peliculas': ['Toy Story',\n",
       "  \"A Bug's Life\",\n",
       "  'Toy Story 2',\n",
       "  'Luxo Jr.',\n",
       "  'Cars',\n",
       "  'Cars 2',\n",
       "  'Tin Toy',\n",
       "  \"Red's Dream\",\n",
       "  'Knick Knack',\n",
       "  'Mater and the Ghostlight'],\n",
       " 'anio': [1995, 1998, 1999, 1986, 2006, 2011, 1988, 1987, 1989, 2006],\n",
       " 'retorno_pelicula': [12.4518011,\n",
       "  3.027157158333333,\n",
       "  5.526298544444445,\n",
       "  0.0,\n",
       "  3.849859575,\n",
       "  2.79926198,\n",
       "  0.0,\n",
       "  0.0,\n",
       "  0.0,\n",
       "  0.0],\n",
       " 'budget_pelicula': [30000000.0,\n",
       "  120000000.0,\n",
       "  90000000.0,\n",
       "  0.0,\n",
       "  120000000.0,\n",
       "  200000000.0,\n",
       "  0.0,\n",
       "  0.0,\n",
       "  0.0,\n",
       "  0.0],\n",
       " 'revenue_pelicula': [373554033.0,\n",
       "  363258859.0,\n",
       "  497366869.0,\n",
       "  0.0,\n",
       "  461983149.0,\n",
       "  559852396.0,\n",
       "  0.0,\n",
       "  0.0,\n",
       "  0.0,\n",
       "  0.0]}"
      ]
     },
     "execution_count": 32,
     "metadata": {},
     "output_type": "execute_result"
    }
   ],
   "source": [
    "get_director('John Lasseter')"
   ]
  },
  {
   "cell_type": "markdown",
   "metadata": {},
   "source": [
    "7.- Recomendar peliculas"
   ]
  },
  {
   "cell_type": "code",
   "execution_count": 33,
   "metadata": {},
   "outputs": [],
   "source": [
    "def recomendacion(titulo): \n",
    "    import ast\n",
    "    convert_to_dicc_2 = lambda string_a_dicc: ast.literal_eval(string_a_dicc) if isinstance(string_a_dicc, str) else np.nan\n",
    "    df_recomendaciones['recomendaciones2'] = df_recomendaciones['recomendaciones'].apply(convert_to_dicc_2)\n",
    "    if titulo in df_recomendaciones['titulo'].values:\n",
    "        mi_string = df_recomendaciones[df_recomendaciones['titulo'] == titulo]['recomendaciones2'].iloc[0]\n",
    "        return {'lista recomendada': mi_string}\n"
   ]
  },
  {
   "cell_type": "code",
   "execution_count": 34,
   "metadata": {},
   "outputs": [
    {
     "data": {
      "text/plain": [
       "{'lista recomendada': ['Toy Story 2',\n",
       "  'Partysaurus Rex',\n",
       "  'Walk Like a Man',\n",
       "  'In a Heartbeat',\n",
       "  'Botsman i Popugay']}"
      ]
     },
     "execution_count": 34,
     "metadata": {},
     "output_type": "execute_result"
    }
   ],
   "source": [
    "recomendacion('Toy Story')"
   ]
  }
 ],
 "metadata": {
  "kernelspec": {
   "display_name": "Python 3",
   "language": "python",
   "name": "python3"
  },
  "language_info": {
   "codemirror_mode": {
    "name": "ipython",
    "version": 3
   },
   "file_extension": ".py",
   "mimetype": "text/x-python",
   "name": "python",
   "nbconvert_exporter": "python",
   "pygments_lexer": "ipython3",
   "version": "3.10.10"
  },
  "orig_nbformat": 4
 },
 "nbformat": 4,
 "nbformat_minor": 2
}
